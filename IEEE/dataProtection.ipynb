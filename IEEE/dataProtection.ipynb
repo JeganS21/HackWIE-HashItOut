{
 "cells": [
  {
   "cell_type": "code",
   "execution_count": 25,
   "id": "bf49f715",
   "metadata": {
    "scrolled": true
   },
   "outputs": [
    {
     "name": "stdout",
     "output_type": "stream",
     "text": [
      "Enter password:\n"
     ]
    }
   ],
   "source": [
    "import json\n",
    "import requests\n",
    "from cryptography.fernet import Fernet\n",
    "def sep(s):\n",
    "    \n",
    "    c=int(len(s)/4)\n",
    "    k=c\n",
    "    data=[]\n",
    "    i=0\n",
    "    for j in range(4):\n",
    "        if (j==3):\n",
    "            data.append(s[i:])\n",
    "        else:\n",
    "            data.append(s[i:c])\n",
    "            i=i+k\n",
    "            c=c+k\n",
    "    return data\n",
    "\n",
    "def encrypt(message):\n",
    "    data=[]\n",
    "    key = Fernet.generate_key()\n",
    "    data.append(key)\n",
    "    fernet = Fernet(key)\n",
    "    encMessage = fernet.encrypt(message.encode())\n",
    "    data.append(encMessage)\n",
    "    return data\n",
    "data=encrypt(input(\"Enter password:\"))\n",
    "password=sep(data[1])\n",
    "key=sep(data[0])\n",
    "\n",
    "\n",
    "\n",
    "url=\"http://localhost:8080/\"\n",
    "response=requests.post(url,{\n",
    "    \"password\":password[0],\n",
    "    \"key\":key[0]\n",
    "})\n",
    "url=\"http://localhost:8081/\"\n",
    "response=requests.post(url,{\n",
    "    \"password\":password[1],\n",
    "    \"key\":key[1]\n",
    "})\n",
    "url=\"http://localhost:8082/\"\n",
    "response=requests.post(url,{\n",
    "    \"password\":password[2],\n",
    "    \"key\":key[2]\n",
    "})\n",
    "url=\"http://localhost:8083/\"\n",
    "response=requests.post(url,{\n",
    "    \"password\":password[3],\n",
    "    \"key\":key[3]\n",
    "})"
   ]
  },
  {
   "cell_type": "code",
   "execution_count": 76,
   "id": "2c920e58",
   "metadata": {},
   "outputs": [],
   "source": []
  },
  {
   "cell_type": "code",
   "execution_count": 45,
   "id": "4ad8edfc",
   "metadata": {},
   "outputs": [
    {
     "name": "stdout",
     "output_type": "stream",
     "text": [
      " * Serving Flask app '__main__' (lazy loading)\n",
      " * Environment: production\n",
      "\u001b[31m   WARNING: This is a development server. Do not use it in a production deployment.\u001b[0m\n",
      "\u001b[2m   Use a production WSGI server instead.\u001b[0m\n",
      " * Debug mode: on\n"
     ]
    },
    {
     "name": "stderr",
     "output_type": "stream",
     "text": [
      " * Running on http://127.0.0.1:8086/ (Press CTRL+C to quit)\n",
      " * Restarting with stat\n",
      "Traceback (most recent call last):\n",
      "  File \"/usr/local/lib/python3.8/dist-packages/ipykernel_launcher.py\", line 16, in <module>\n",
      "    app.launch_new_instance()\n",
      "  File \"/usr/local/lib/python3.8/dist-packages/traitlets/config/application.py\", line 845, in launch_instance\n",
      "    app.initialize(argv)\n",
      "  File \"/usr/local/lib/python3.8/dist-packages/traitlets/config/application.py\", line 88, in inner\n",
      "    return method(app, *args, **kwargs)\n",
      "  File \"/usr/local/lib/python3.8/dist-packages/ipykernel/kernelapp.py\", line 632, in initialize\n",
      "    self.init_sockets()\n",
      "  File \"/usr/local/lib/python3.8/dist-packages/ipykernel/kernelapp.py\", line 282, in init_sockets\n",
      "    self.shell_port = self._bind_socket(self.shell_socket, self.shell_port)\n",
      "  File \"/usr/local/lib/python3.8/dist-packages/ipykernel/kernelapp.py\", line 229, in _bind_socket\n",
      "    return self._try_bind_socket(s, port)\n",
      "  File \"/usr/local/lib/python3.8/dist-packages/ipykernel/kernelapp.py\", line 205, in _try_bind_socket\n",
      "    s.bind(\"tcp://%s:%i\" % (self.ip, port))\n",
      "  File \"/usr/local/lib/python3.8/dist-packages/zmq/sugar/socket.py\", line 214, in bind\n",
      "    super().bind(addr)\n",
      "  File \"zmq/backend/cython/socket.pyx\", line 540, in zmq.backend.cython.socket.Socket.bind\n",
      "  File \"zmq/backend/cython/checkrc.pxd\", line 28, in zmq.backend.cython.checkrc._check_rc\n",
      "zmq.error.ZMQError: Address already in use\n"
     ]
    },
    {
     "ename": "SystemExit",
     "evalue": "1",
     "output_type": "error",
     "traceback": [
      "An exception has occurred, use %tb to see the full traceback.\n",
      "\u001b[0;31mSystemExit\u001b[0m\u001b[0;31m:\u001b[0m 1\n"
     ]
    },
    {
     "name": "stderr",
     "output_type": "stream",
     "text": [
      "/usr/local/lib/python3.8/dist-packages/IPython/core/interactiveshell.py:3465: UserWarning: To exit: use 'exit', 'quit', or Ctrl-D.\n",
      "  warn(\"To exit: use 'exit', 'quit', or Ctrl-D.\", stacklevel=1)\n"
     ]
    }
   ],
   "source": [
    "from flask import Flask,jsonify,request\n",
    "\n",
    "app = Flask(__name__)\n",
    "\n",
    "@app.route('/returnjson', methods = ['GET'])\n",
    "def ReturnJSON():\n",
    "    if(request.method == 'GET'):\n",
    "        data = {\n",
    "            \"Modules\" : 15,\n",
    "            \"Subject\" : \"Data Structures and Algorithms\",\n",
    "        }\n",
    "\n",
    "        return jsonify(data)\n",
    "\n",
    "if __name__=='__main__':\n",
    "    app.run(debug=True,port=8086)\n"
   ]
  },
  {
   "cell_type": "code",
   "execution_count": 59,
   "id": "c6fab1e5",
   "metadata": {},
   "outputs": [
    {
     "ename": "KeyboardInterrupt",
     "evalue": "Interrupted by user",
     "output_type": "error",
     "traceback": [
      "\u001b[0;31m---------------------------------------------------------------------------\u001b[0m",
      "\u001b[0;31mKeyboardInterrupt\u001b[0m                         Traceback (most recent call last)",
      "\u001b[0;32m/tmp/ipykernel_16086/1841868236.py\u001b[0m in \u001b[0;36m<module>\u001b[0;34m\u001b[0m\n\u001b[1;32m      8\u001b[0m     \u001b[0mencMessage\u001b[0m \u001b[0;34m=\u001b[0m \u001b[0mfernet\u001b[0m\u001b[0;34m.\u001b[0m\u001b[0mencrypt\u001b[0m\u001b[0;34m(\u001b[0m\u001b[0mmessage\u001b[0m\u001b[0;34m.\u001b[0m\u001b[0mencode\u001b[0m\u001b[0;34m(\u001b[0m\u001b[0;34m)\u001b[0m\u001b[0;34m)\u001b[0m\u001b[0;34m\u001b[0m\u001b[0;34m\u001b[0m\u001b[0m\n\u001b[1;32m      9\u001b[0m     \u001b[0;32mreturn\u001b[0m \u001b[0mencMessage\u001b[0m\u001b[0;34m\u001b[0m\u001b[0;34m\u001b[0m\u001b[0m\n\u001b[0;32m---> 10\u001b[0;31m \u001b[0mpassword\u001b[0m\u001b[0;34m=\u001b[0m\u001b[0mencrypt\u001b[0m\u001b[0;34m(\u001b[0m\u001b[0minput\u001b[0m\u001b[0;34m(\u001b[0m\u001b[0;34m\"Enter password:\"\u001b[0m\u001b[0;34m)\u001b[0m\u001b[0;34m)\u001b[0m\u001b[0;34m\u001b[0m\u001b[0;34m\u001b[0m\u001b[0m\n\u001b[0m\u001b[1;32m     11\u001b[0m \u001b[0;34m\u001b[0m\u001b[0m\n\u001b[1;32m     12\u001b[0m \u001b[0murl\u001b[0m\u001b[0;34m=\u001b[0m\u001b[0;34m\"http://172.16.29.3:8080/\"\u001b[0m\u001b[0;34m\u001b[0m\u001b[0;34m\u001b[0m\u001b[0m\n",
      "\u001b[0;32m/usr/local/lib/python3.8/dist-packages/ipykernel/kernelbase.py\u001b[0m in \u001b[0;36mraw_input\u001b[0;34m(self, prompt)\u001b[0m\n\u001b[1;32m   1005\u001b[0m                 \u001b[0;34m\"raw_input was called, but this frontend does not support input requests.\"\u001b[0m\u001b[0;34m\u001b[0m\u001b[0;34m\u001b[0m\u001b[0m\n\u001b[1;32m   1006\u001b[0m             )\n\u001b[0;32m-> 1007\u001b[0;31m         return self._input_request(\n\u001b[0m\u001b[1;32m   1008\u001b[0m             \u001b[0mstr\u001b[0m\u001b[0;34m(\u001b[0m\u001b[0mprompt\u001b[0m\u001b[0;34m)\u001b[0m\u001b[0;34m,\u001b[0m\u001b[0;34m\u001b[0m\u001b[0;34m\u001b[0m\u001b[0m\n\u001b[1;32m   1009\u001b[0m             \u001b[0mself\u001b[0m\u001b[0;34m.\u001b[0m\u001b[0m_parent_ident\u001b[0m\u001b[0;34m[\u001b[0m\u001b[0;34m\"shell\"\u001b[0m\u001b[0;34m]\u001b[0m\u001b[0;34m,\u001b[0m\u001b[0;34m\u001b[0m\u001b[0;34m\u001b[0m\u001b[0m\n",
      "\u001b[0;32m/usr/local/lib/python3.8/dist-packages/ipykernel/kernelbase.py\u001b[0m in \u001b[0;36m_input_request\u001b[0;34m(self, prompt, ident, parent, password)\u001b[0m\n\u001b[1;32m   1050\u001b[0m             \u001b[0;32mexcept\u001b[0m \u001b[0mKeyboardInterrupt\u001b[0m\u001b[0;34m:\u001b[0m\u001b[0;34m\u001b[0m\u001b[0;34m\u001b[0m\u001b[0m\n\u001b[1;32m   1051\u001b[0m                 \u001b[0;31m# re-raise KeyboardInterrupt, to truncate traceback\u001b[0m\u001b[0;34m\u001b[0m\u001b[0;34m\u001b[0m\u001b[0;34m\u001b[0m\u001b[0m\n\u001b[0;32m-> 1052\u001b[0;31m                 \u001b[0;32mraise\u001b[0m \u001b[0mKeyboardInterrupt\u001b[0m\u001b[0;34m(\u001b[0m\u001b[0;34m\"Interrupted by user\"\u001b[0m\u001b[0;34m)\u001b[0m \u001b[0;32mfrom\u001b[0m \u001b[0;32mNone\u001b[0m\u001b[0;34m\u001b[0m\u001b[0;34m\u001b[0m\u001b[0m\n\u001b[0m\u001b[1;32m   1053\u001b[0m             \u001b[0;32mexcept\u001b[0m \u001b[0mException\u001b[0m\u001b[0;34m:\u001b[0m\u001b[0;34m\u001b[0m\u001b[0;34m\u001b[0m\u001b[0m\n\u001b[1;32m   1054\u001b[0m                 \u001b[0mself\u001b[0m\u001b[0;34m.\u001b[0m\u001b[0mlog\u001b[0m\u001b[0;34m.\u001b[0m\u001b[0mwarning\u001b[0m\u001b[0;34m(\u001b[0m\u001b[0;34m\"Invalid Message:\"\u001b[0m\u001b[0;34m,\u001b[0m \u001b[0mexc_info\u001b[0m\u001b[0;34m=\u001b[0m\u001b[0;32mTrue\u001b[0m\u001b[0;34m)\u001b[0m\u001b[0;34m\u001b[0m\u001b[0;34m\u001b[0m\u001b[0m\n",
      "\u001b[0;31mKeyboardInterrupt\u001b[0m: Interrupted by user"
     ]
    }
   ],
   "source": [
    "import json\n",
    "import requests\n",
    "from cryptography.fernet import Fernet\n",
    "\n",
    "def encrypt(message):\n",
    "    key = Fernet.generate_key()\n",
    "    fernet = Fernet(key)\n",
    "    encMessage = fernet.encrypt(message.encode())\n",
    "    return encMessage\n",
    "password=encrypt(input(\"Enter password:\"))\n",
    "\n",
    "url=\"http://172.16.29.3:8080/\"\n",
    "response=requests.post(url,{\n",
    "    \"password\":password\n",
    "})\n",
    "url=\"http://172.16.29.3:8081/\"\n",
    "response=requests.post(url,{\n",
    "    \"password\":password\n",
    "})\n",
    "url=\"http://172.16.29.3:8082/\"\n",
    "response=requests.post(url,{\n",
    "    \"password\":password\n",
    "})\n",
    "url=\"http://172.16.29.3:8083/\"\n",
    "response=requests.post(url,{\n",
    "    \"password\":password\n",
    "})"
   ]
  },
  {
   "cell_type": "code",
   "execution_count": 70,
   "id": "50567bf7",
   "metadata": {},
   "outputs": [
    {
     "data": {
      "text/plain": [
       "b'tDFmXnYbEszWIaaAJaLhLrdLsWeZL5T2mk_BZ2jo1_z2JZk1jnnlgElayJyBjpRcrbpyGBbz4P0NqdBH9Hg=='"
      ]
     },
     "execution_count": 70,
     "metadata": {},
     "output_type": "execute_result"
    }
   ],
   "source": [
    "password[3]"
   ]
  },
  {
   "cell_type": "markdown",
   "id": "e861f0d2",
   "metadata": {},
   "source": [
    "password[2]"
   ]
  },
  {
   "cell_type": "code",
   "execution_count": 73,
   "id": "9a28b577",
   "metadata": {},
   "outputs": [
    {
     "data": {
      "text/plain": [
       "b'gAAAAABhuYs3-V7zIvQNmYvfiGLrsJ1WVrmHoo6ZCFlQWEv8bakMvhOtoIONTEEZslcsCqN_t-OfbiQ27P0iB55NAYz2tGo8vg=='"
      ]
     },
     "execution_count": 73,
     "metadata": {},
     "output_type": "execute_result"
    }
   ],
   "source": [
    "password"
   ]
  },
  {
   "cell_type": "code",
   "execution_count": 77,
   "id": "cd14eec7",
   "metadata": {},
   "outputs": [
    {
     "data": {
      "text/plain": [
       "[b'gAAAAABhuYs3-V7zIvQNmYvfi',\n",
       " b'GLrsJ1WVrmHoo6ZCFlQWEv8ba',\n",
       " b'kMvhOtoIONTEEZslcsCqN_t-O',\n",
       " b'fbiQ27P0iB55NAYz2tGo8vg==']"
      ]
     },
     "execution_count": 77,
     "metadata": {},
     "output_type": "execute_result"
    }
   ],
   "source": [
    "sep(password)"
   ]
  },
  {
   "cell_type": "code",
   "execution_count": 75,
   "id": "0ecfef06",
   "metadata": {},
   "outputs": [
    {
     "data": {
      "text/plain": [
       "100"
      ]
     },
     "execution_count": 75,
     "metadata": {},
     "output_type": "execute_result"
    }
   ],
   "source": [
    "len(password)"
   ]
  },
  {
   "cell_type": "code",
   "execution_count": null,
   "id": "b26a54d0",
   "metadata": {},
   "outputs": [],
   "source": [
    "import json\n",
    "import requests\n",
    "from cryptography.fernet import Fernet\n",
    "def sep(s):\n",
    "    \n",
    "    c=int(len(s)/4)\n",
    "    k=c\n",
    "    data=[]\n",
    "    i=0\n",
    "    for j in range(4):\n",
    "        if (j==3):\n",
    "            data.append(s[i:])\n",
    "        else:\n",
    "            data.append(s[i:c])\n",
    "            i=i+k\n",
    "            c=c+k\n",
    "    return data\n",
    "\n",
    "def encrypt(message):\n",
    "    data=[]\n",
    "    key = Fernet.generate_key()\n",
    "    data.append(key)\n",
    "    fernet = Fernet(key)\n",
    "    encMessage = fernet.encrypt(message.encode())\n",
    "    data.append(encMessage)\n",
    "    return data\n",
    "def sendpost(r)\n",
    "    data=encrypt(r)\n",
    "    password=sep(data[1])\n",
    "    key=sep(data[0])\n",
    "\n",
    "    url=\"http://localhost:8080/\"\n",
    "    response=requests.post(url,{\n",
    "        \"password\":password[0],\n",
    "        \"key\":key[0]\n",
    "    })\n",
    "    url=\"http://localhost:8081/\"\n",
    "    response=requests.post(url,{\n",
    "        \"password\":password[1],\n",
    "        \"key\":key[1]\n",
    "    })\n",
    "    url=\"http://localhost:8082/\"\n",
    "    response=requests.post(url,{\n",
    "        \"password\":password[2],\n",
    "        \"key\":key[2]\n",
    "    })\n",
    "    url=\"http://localhost:8083/\"\n",
    "    response=requests.post(url,{\n",
    "        \"password\":password[3],\n",
    "        \"key\":key[3]\n",
    "    })"
   ]
  }
 ],
 "metadata": {
  "kernelspec": {
   "display_name": "Python 3 (ipykernel)",
   "language": "python",
   "name": "python3"
  },
  "language_info": {
   "codemirror_mode": {
    "name": "ipython",
    "version": 3
   },
   "file_extension": ".py",
   "mimetype": "text/x-python",
   "name": "python",
   "nbconvert_exporter": "python",
   "pygments_lexer": "ipython3",
   "version": "3.8.10"
  }
 },
 "nbformat": 4,
 "nbformat_minor": 5
}
